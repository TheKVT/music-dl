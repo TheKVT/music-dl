{
  "nbformat": 4,
  "nbformat_minor": 0,
  "metadata": {
    "colab": {
      "provenance": [],
      "collapsed_sections": [
        "X8reEocsTfcM",
        "bd2IdS4FIV3j"
      ]
    },
    "kernelspec": {
      "name": "python3",
      "display_name": "Python 3"
    },
    "language_info": {
      "name": "python"
    }
  },
  "cells": [
    {
      "cell_type": "markdown",
      "source": [
        "# __<font color='green'>Music downloader for Quboz & Deezer By </font> [TheKVT](https://https://github.com/TheKVT/music-dl)__\n",
        "###___<font color=\"yellow\"> [press me for help](https://github.com/TheKVT/music-dl#readme)</font>___\n",
        "\n",
        "---\n",
        "\n"
      ],
      "metadata": {
        "id": "x4SmRYh7DzVy"
      }
    },
    {
      "cell_type": "code",
      "execution_count": null,
      "metadata": {
        "id": "tka5g4IDIFbN",
        "cellView": "form"
      },
      "outputs": [],
      "source": [
        "\n",
        "#@markdown #👈 __Install  Requiremets__\n",
        "\n",
        "import os, time\n",
        "from IPython.display import clear_output\n",
        "import urllib.request\n",
        "\n",
        "!pip3 install git+https://github.com/nathom/streamrip.git@dev\n",
        "!pip install toml\n",
        "%cd /\n",
        "!mkdir \"root/.config/streamrip/\"\n",
        "!mkdir \"content/music-dl\"\n",
        "file_url = \"https://raw.githubusercontent.com/nathom/streamrip/main/rip/config.toml\"\n",
        "save_path = \"/root/.config/streamrip/config.toml\"\n",
        "urllib.request.urlretrieve(file_url, save_path)\n",
        "clear_output()\n",
        "print('\\033[92m Installation finished!')\n",
        "time.sleep(1)\n",
        "os.kill(os.getpid(), 9)"
      ]
    },
    {
      "cell_type": "code",
      "source": [
        "#@title ##![Qobuz](https://www.qobuz.com/assets-static/img/icons/favicon/favicon-32x32.png) __Qobuz Downloder__\n",
        "Quboz_url = \"\" #@param {type:\"string\"}\n",
        "user_id = \"\" #@param {type:\"string\"}\n",
        "token = \"\"  #@param {type:\"string\"}\n",
        "Archive = False #@param {type:\"boolean\"}\n",
        "#@markdown password for the creating archive file\n",
        "ARCHIVE_PASSWORD = \"\" #@param {type:\"string\"}\n",
        "#@markdown for **_codec_** select ```empty``` for ```default```\n",
        "codec = \"\" #@param [\"\", \"ALAC\", \"FLAC\" , \"AAC\", \"MP3\",  \"OGG\" ]\n",
        "#@markdown If you want use custom quality  add ```--max-quality [your level]``` in middle of the last link of the code\n",
        "\n",
        "import toml, os\n",
        "\n",
        "def get_latest_folder(folder_path):\n",
        "    folders = [f for f in os.listdir(folder_path) if os.path.isdir(os.path.join(folder_path, f))]\n",
        "    latest_folder = max(folders, key=lambda f: os.path.getctime(os.path.join(folder_path, f)))\n",
        "    return latest_folder\n",
        "\n",
        "# Example usage:\n",
        "\n",
        "\n",
        "with open('/root/.config/streamrip/config.toml', 'r') as file:\n",
        "    data = toml.load(file)\n",
        "data['downloads']['folder'] = \"/content/music-dl/\"\n",
        "data['qobuz']['use_auth_token'] = True\n",
        "data['qobuz']['email_or_userid'] = user_id\n",
        "data['qobuz']['password_or_token'] = token\n",
        "data['downloads']['concurrency']['max_connections'] = 6\n",
        "data['filepaths']['track_format'] = \"{tracknumber}.{title}{explicit}\"\n",
        "with open('/root/.config/streamrip/config.toml', 'w') as file:\n",
        "    toml.dump(data, file)\n",
        "\n",
        "os.environ['url'] = Quboz_url\n",
        "os.environ['file_type'] = codec\n",
        "print(\"\\033[92m Sucessfully given data logged\")\n",
        "\n",
        "#add --max-quality [your] in this 👇 line after url\n",
        "!rip url --max-quality 4 --codec \"$file_type\" -i \"$url\"\n",
        "\n",
        "if Archive == True :\n",
        "  folder_path = \"/content/music-dl/\"\n",
        "  latest_folder_name = get_latest_folder(folder_path)\n",
        "  print(\"Latest folder name:\", latest_folder_name)\n",
        "  archpath = folder_path+str(latest_folder_name)\n",
        "  if ARCHIVE_PASSWORD == True :\n",
        "    pwd = f'-p{ARCHIVE_PASSWORD}' \n",
        "  else:\n",
        "    pwd = ''\n",
        "  cmd = f'7z a -t7z \"{latest_folder_name}.7z\" -mx=9 {pwd} \"{archpath}\"'\n",
        "  !$cmd"
      ],
      "metadata": {
        "id": "iNziI6ZRInDI",
        "cellView": "form"
      },
      "execution_count": null,
      "outputs": []
    },
    {
      "cell_type": "code",
      "source": [
        "#@title ## ![Deezer](https://e-cdn-files.dzcdn.net/cache/images/common/favicon/favicon-32x32.42917d14a8cb0cc4045c827251b57c0e.png) __Deezer Downlaoder__\n",
        "Deezer_url = \"\" #@param {type:\"string\"}\n",
        "arl = \"\" #@param {type:\"string\"}\n",
        "Archive = False #@param {type:\"boolean\"}\n",
        "#@markdown password for the creating archive file\n",
        "ARCHIVE_PASSWORD = \"\" #@param {type:\"string\"}\n",
        "#@markdown for **_codec_** select ```empty``` for ```default```\n",
        "codec = \"\" #@param [\"\", \"ALAC\", \"FLAC\" , \"AAC\", \"MP3\",  \"OGG\" ]\n",
        "#@markdown If you want use custom quality add ```--max-quality [your level]``` in middle of the last link of the code\n",
        "\n",
        "import toml,os\n",
        "\n",
        "def get_latest_folder(folder_path):\n",
        "    folders = [f for f in os.listdir(folder_path) if os.path.isdir(os.path.join(folder_path, f))]\n",
        "    latest_folder = max(folders, key=lambda f: os.path.getctime(os.path.join(folder_path, f)))\n",
        "    return latest_folder\n",
        "\n",
        "with open('/root/.config/streamrip/config.toml', 'r') as file:\n",
        "    data = toml.load(file)\n",
        "data['downloads']['folder'] = \"/content/music-dl\"\n",
        "data['deezer']['arl'] = arl\n",
        "data[\"downloads\"][\"concurrency\"][\"max_connections\"] = 6\n",
        "with open('/root/.config/streamrip/config.toml', 'w') as file:\n",
        "    toml.dump(data, file)\n",
        "\n",
        "os.environ['url'] = Deezer_url\n",
        "os.environ['file_type'] = codec\n",
        "print(\"\\033[92m Sucessfully given data logged\")\n",
        "\n",
        "!rip url --codec \"$file_type\" \"$url\"\n",
        "if Archive == True :\n",
        "  folder_path = \"/content/music-dl/\"\n",
        "  latest_folder_name = get_latest_folder(folder_path)\n",
        "  print(\"Latest folder name:\", latest_folder_name)\n",
        "  archpath = folder_path+str(latest_folder_name)\n",
        "  if ARCHIVE_PASSWORD == True :\n",
        "    pwd = f'-p{ARCHIVE_PASSWORD}' \n",
        "  else:\n",
        "    pwd = ''\n",
        "  cmd = f'7z a -t7z \"{latest_folder_name}.7z\" -mx=9 {pwd} \"{archpath}\"'\n",
        "  print(cmd)\n",
        "  !$cmd"
      ],
      "metadata": {
        "id": "UK5TQcD_LHpt",
        "cellView": "form"
      },
      "execution_count": null,
      "outputs": []
    },
    {
      "cell_type": "code",
      "metadata": {
        "cellView": "form",
        "id": "5WcoPDC-GrUw"
      },
      "source": [
        "#@title ## ![Mediaifo ico](https://mediaarea.net/images/f060656-483f87e.ico)   __Get MediaInfo of the file__\n",
        "path = \"\" #@param {type:\"string\"}\n",
        "import os, uuid, re, IPython\n",
        "from IPython.display import HTML\n",
        "import ipywidgets as widgets\n",
        "import time\n",
        "\n",
        "def mediainfo():\n",
        "  display(HTML(\"<br>\"))\n",
        "  display(HTML(\"<br>\"))\n",
        "  get_ipython().system_raw(\"\"\"mediainfo --LogFile=\"/root/.nfo\" \"$path\" \"\"\")\n",
        "  with open('/root/.nfo', 'r') as file:\n",
        "    media = file.read()\n",
        "    media = media.replace(os.path.dirname(path)+\"/\", \"\")\n",
        "  print(media)\n",
        "  get_ipython().system_raw(\"rm -f '/root/.nfo'\")\n",
        "  \n",
        "if not os.path.exists(\"/usr/bin/mediainfo\"):\n",
        "  get_ipython().system_raw(\"apt-get install mediainfo\")\n",
        "  \n",
        "mediainfo()"
      ],
      "execution_count": null,
      "outputs": []
    },
    {
      "cell_type": "markdown",
      "source": [
        " ## ![alt text](https://drive.google.com/favicon.ico) &nbsp; __Upload to [Drive](https://drive.google.com/)__"
      ],
      "metadata": {
        "id": "aPWAvG-Y8YU1"
      }
    },
    {
      "cell_type": "code",
      "source": [
        "#@markdown ###⬅️ __Mount Drive__\n",
        "\n",
        "from google.colab import drive\n",
        "drive.mount('/content/drive')"
      ],
      "metadata": {
        "cellView": "form",
        "id": "DcWegufj70b_",
        "colab": {
          "base_uri": "https://localhost:8080/"
        },
        "outputId": "363cf609-fc56-41b7-f04f-dbd53db39622"
      },
      "execution_count": null,
      "outputs": [
        {
          "output_type": "stream",
          "name": "stdout",
          "text": [
            "Mounted at /content/drive\n"
          ]
        }
      ]
    },
    {
      "cell_type": "code",
      "source": [
        "#@markdown ```Album folder path```\n",
        "input_folder = \"\" #@param {type:\"string\"}\n",
        "#@markdown ```Saving folder path of drive```\n",
        "destination_folder = \"\" #@param {type:\"string\"}\n",
        "!cp -a -v \"$input_folder\" \"$destination_folder\"\n",
        "print(\"Copied successfully!!\")"
      ],
      "metadata": {
        "cellView": "form",
        "id": "FLK-IVAKNpnz"
      },
      "execution_count": null,
      "outputs": []
    },
    {
      "cell_type": "markdown",
      "metadata": {
        "id": "X8reEocsTfcM"
      },
      "source": [
        "##![alt text](https://mega.nz/favicon.ico?v=3) __Upload to [Mega](https://mega.nz/)__"
      ]
    },
    {
      "cell_type": "code",
      "metadata": {
        "id": "q3uC2Lo5R6N9",
        "cellView": "form"
      },
      "source": [
        "# @markdown <center><h2>INPUT YOUR MEGA ID</h2></center><br>\n",
        "from functools import wraps\n",
        "import errno\n",
        "import os\n",
        "import signal\n",
        "import subprocess\n",
        "import shlex\n",
        "\n",
        "\n",
        "class TimeoutError(Exception):\n",
        "    pass\n",
        "\n",
        "\n",
        "def timeout(seconds=10, error_message=os.strerror(errno.ETIME)):\n",
        "    def decorator(func):\n",
        "        def _handle_timeout(signum, frame):\n",
        "            raise TimeoutError(error_message)\n",
        "\n",
        "        def wrapper(*args, **kwargs):\n",
        "            signal.signal(signal.SIGALRM, _handle_timeout)\n",
        "            signal.alarm(seconds)\n",
        "            try:\n",
        "                result = func(*args, **kwargs)\n",
        "            finally:\n",
        "                signal.alarm(0)\n",
        "            return result\n",
        "\n",
        "        return wraps(func)(wrapper)\n",
        "\n",
        "    return decorator\n",
        "\n",
        "\n",
        "if not os.path.exists(\"/root/.ipython/ocr.py\"):\n",
        "    from subprocess import run\n",
        "    from shlex import split\n",
        "\n",
        "    shellCmd = \"wget -qq https://raw.githubusercontent.com/biplobsd/OneClickRun/master/res/ocr.py \\\n",
        "                    -O /root/.ipython/ocr.py\"\n",
        "    run(split(shellCmd))\n",
        "from ocr import runSh\n",
        "\n",
        "@timeout(10)\n",
        "def runShT(args):\n",
        "    return runSh(args, output=True)\n",
        "\n",
        "\n",
        "# MEGAcmd installing\n",
        "if not os.path.exists(\"/usr/bin/mega-cmd\"):\n",
        "    print(\"Installing MEGA ...\")\n",
        "    runSh('sudo apt-get -y update')\n",
        "    runSh('sudo apt-get -y install libmms0 libc-ares2 libc6 libcrypto++6 libgcc1 libmediainfo0v5 libpcre3 libpcrecpp0v5 libssl1.1 libstdc++6 libzen0v5 zlib1g apt-transport-https')\n",
        "    runSh('sudo curl -sL -o /var/cache/apt/archives/MEGAcmd.deb https://mega.nz/linux/MEGAsync/Debian_9.0/amd64/megacmd-Debian_9.0_amd64.deb', output=True)\n",
        "    runSh('sudo dpkg -i /var/cache/apt/archives/MEGAcmd.deb', output=True)\n",
        "    print(\"MEGA is installed.\")\n",
        "else:\n",
        "    !pkill mega-cmd\n",
        "\n",
        "# INPUT YOUR MEGA ID\n",
        "\n",
        "USERNAME = \"\"  # @param {type:\"string\"}\n",
        "PASSWORD = \"\"  # @param {type:\"string\"}\n",
        "if not (USERNAME == \"\" or PASSWORD == \"\"):\n",
        "    try:\n",
        "        runShT(f\"mega-login {USERNAME} {PASSWORD}\")\n",
        "    except TimeoutError:\n",
        "        runSh('mega-whoami', output=True)\n",
        "else:\n",
        "    print(\"Please Input your Mega IDs.\")"
      ],
      "execution_count": null,
      "outputs": []
    },
    {
      "cell_type": "code",
      "metadata": {
        "id": "E3N6hyM2I6hk",
        "cellView": "form"
      },
      "source": [
        "import time\n",
        "import subprocess\n",
        "import contextlib\n",
        "from IPython.display import clear_output\n",
        "# @markdown __ENTER path and run__\n",
        "\n",
        "PATH_TO_FILE = \"\"  # @param {type:\"string\"}\n",
        "# Unix, Windows and old Macintosh end-of-line\n",
        "newlines = ['\\n', '\\r\\n', '\\r']\n",
        "\n",
        "\n",
        "def unbuffered(proc, stream='stdout'):\n",
        "    stream = getattr(proc, stream)\n",
        "    with contextlib.closing(stream):\n",
        "        while True:\n",
        "            out = []\n",
        "            last = stream.read(1)\n",
        "            # Don't loop forever\n",
        "            if last == '' and proc.poll() is not None:\n",
        "                break\n",
        "            while last not in newlines:\n",
        "                # Don't loop forever\n",
        "                if last == '' and proc.poll() is not None:\n",
        "                    break\n",
        "                out.append(last)\n",
        "                last = stream.read(1)\n",
        "            out = ''.join(out)\n",
        "            yield out\n",
        "\n",
        "\n",
        "def transfare():\n",
        "    cmd = ['mega-put', PATH_TO_FILE, '/TheKVT']\n",
        "    proc = subprocess.Popen(\n",
        "        cmd,\n",
        "        stdout=subprocess.PIPE,\n",
        "        stderr=subprocess.STDOUT,\n",
        "        # Make all end-of-lines '\\n'\n",
        "        universal_newlines=True,\n",
        "    )\n",
        "    for line in unbuffered(proc):\n",
        "        clear_output(wait=True)\n",
        "        print(line)\n",
        "\n",
        "try:\n",
        "    transfare()\n",
        "except FileNotFoundError:\n",
        "    print(\"Login your Mega Credentials!\")"
      ],
      "execution_count": null,
      "outputs": []
    },
    {
      "cell_type": "markdown",
      "source": [
        "##__MultiUpload (15+ hosts)__ \n",
        "-by bunny & sorrow"
      ],
      "metadata": {
        "id": "bd2IdS4FIV3j"
      }
    },
    {
      "cell_type": "code",
      "source": [
        "#@markdown <h3>⬅️ Click Here to install MultiUpload requirements</h3>\n",
        "import os, subprocess, json\n",
        "\n",
        "wd = 'tools/multiupload'\n",
        "progName = 'go-ul_linux_x64'\n",
        "os.makedirs(wd, exist_ok=True)\n",
        "try:\n",
        "  if not os.path.exists(wd+'/'+progName):\n",
        "    cmd = !cd $wd;wget https://github.com/bunnykek/go-upload/releases/download/tag/$progName\n",
        "    cmd = !cd $wd;chmod 755 $progName\n",
        "  if not cmd:\n",
        "    print(\"Requirements installed successfully.\")\n",
        "  else:\n",
        "    print(cmd, 'Requirements installed unsuccessfully', sep='\\n')\n",
        "except Exception as e:\n",
        "  print('Error: ', e)"
      ],
      "metadata": {
        "cellView": "form",
        "id": "NLXcfX-ZKmhG"
      },
      "execution_count": null,
      "outputs": []
    },
    {
      "cell_type": "code",
      "source": [
        "#@markdown <h3>MultiUpload</h3>\n",
        "\n",
        "\n",
        "FileHost = \"pixeldrain\" #@param ['anonfiles', 'catbox', 'fileio', 'filemail', 'gofile', 'krakenfiles', 'letsupload', 'megaup', 'mixdrop', 'pixeldrain', 'racaty', 'transfersh', 'uguu', 'wetransfer', 'workupload', 'zippyshare']\n",
        "File_Path = \"\" #@param {type:\"string\"}\n",
        "filehost, infile = FileHost, File_Path\n",
        "\n",
        "message = \"\"\"\n",
        "Name : {0}\n",
        "Host : {1}\n",
        "URL  : {2}\"\"\"\n",
        "cwd = 'tools/multiupload/'\n",
        "def upload(filehost:str, filePath: str):\n",
        "    subprocess.Popen([\"./go-ul_linux_x64\", filehost,\n",
        "                     '-f', infile, '-j', 'response.json'], \n",
        "                     cwd=cwd).wait()\n",
        "\n",
        "    response = json.load(open(cwd+'response.json'))\n",
        "\n",
        "    if not response['jobs'][-1]['ok']:\n",
        "        print(f\"{response['jobs'][-1]['error_text']}\")\n",
        "    else:\n",
        "        print(message.format(response['jobs'][-1]['filename'], filehost, response['jobs'][-1]['url']))\n",
        "    \n",
        "upload(filehost, infile)"
      ],
      "metadata": {
        "cellView": "form",
        "id": "zVmDZeIAIcja"
      },
      "execution_count": null,
      "outputs": []
    }
  ]
}